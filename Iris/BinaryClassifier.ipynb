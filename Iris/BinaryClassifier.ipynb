{
 "cells": [
  {
   "cell_type": "code",
   "execution_count": 23,
   "metadata": {},
   "outputs": [],
   "source": [
    "import os\n",
    "import pandas as pd\n",
    "import matplotlib.pyplot as plt\n",
    "import numpy as np\n",
    "from matplotlib.colors import ListedColormap"
   ]
  },
  {
   "cell_type": "code",
   "execution_count": 8,
   "metadata": {},
   "outputs": [],
   "source": [
    "data_frame = pd.read_csv('database/iris.data',header=None,encoding='utf-8')"
   ]
  },
  {
   "cell_type": "code",
   "execution_count": 9,
   "metadata": {},
   "outputs": [
    {
     "data": {
      "text/html": [
       "<div>\n",
       "<style scoped>\n",
       "    .dataframe tbody tr th:only-of-type {\n",
       "        vertical-align: middle;\n",
       "    }\n",
       "\n",
       "    .dataframe tbody tr th {\n",
       "        vertical-align: top;\n",
       "    }\n",
       "\n",
       "    .dataframe thead th {\n",
       "        text-align: right;\n",
       "    }\n",
       "</style>\n",
       "<table border=\"1\" class=\"dataframe\">\n",
       "  <thead>\n",
       "    <tr style=\"text-align: right;\">\n",
       "      <th></th>\n",
       "      <th>0</th>\n",
       "      <th>1</th>\n",
       "      <th>2</th>\n",
       "      <th>3</th>\n",
       "      <th>4</th>\n",
       "    </tr>\n",
       "  </thead>\n",
       "  <tbody>\n",
       "    <tr>\n",
       "      <th>145</th>\n",
       "      <td>6.7</td>\n",
       "      <td>3.0</td>\n",
       "      <td>5.2</td>\n",
       "      <td>2.3</td>\n",
       "      <td>Iris-virginica</td>\n",
       "    </tr>\n",
       "    <tr>\n",
       "      <th>146</th>\n",
       "      <td>6.3</td>\n",
       "      <td>2.5</td>\n",
       "      <td>5.0</td>\n",
       "      <td>1.9</td>\n",
       "      <td>Iris-virginica</td>\n",
       "    </tr>\n",
       "    <tr>\n",
       "      <th>147</th>\n",
       "      <td>6.5</td>\n",
       "      <td>3.0</td>\n",
       "      <td>5.2</td>\n",
       "      <td>2.0</td>\n",
       "      <td>Iris-virginica</td>\n",
       "    </tr>\n",
       "    <tr>\n",
       "      <th>148</th>\n",
       "      <td>6.2</td>\n",
       "      <td>3.4</td>\n",
       "      <td>5.4</td>\n",
       "      <td>2.3</td>\n",
       "      <td>Iris-virginica</td>\n",
       "    </tr>\n",
       "    <tr>\n",
       "      <th>149</th>\n",
       "      <td>5.9</td>\n",
       "      <td>3.0</td>\n",
       "      <td>5.1</td>\n",
       "      <td>1.8</td>\n",
       "      <td>Iris-virginica</td>\n",
       "    </tr>\n",
       "  </tbody>\n",
       "</table>\n",
       "</div>"
      ],
      "text/plain": [
       "       0    1    2    3               4\n",
       "145  6.7  3.0  5.2  2.3  Iris-virginica\n",
       "146  6.3  2.5  5.0  1.9  Iris-virginica\n",
       "147  6.5  3.0  5.2  2.0  Iris-virginica\n",
       "148  6.2  3.4  5.4  2.3  Iris-virginica\n",
       "149  5.9  3.0  5.1  1.8  Iris-virginica"
      ]
     },
     "execution_count": 9,
     "metadata": {},
     "output_type": "execute_result"
    }
   ],
   "source": [
    "data_frame.tail()"
   ]
  },
  {
   "cell_type": "markdown",
   "metadata": {},
   "source": [
    "#### Choose setosa and versicolor for binary classifier"
   ]
  },
  {
   "cell_type": "code",
   "execution_count": 11,
   "metadata": {},
   "outputs": [],
   "source": [
    "classifier = data_frame.iloc[0:100,4].values\n",
    "classifier = np.where(classifier=='Iris-setosa',-1,1)"
   ]
  },
  {
   "cell_type": "markdown",
   "metadata": {},
   "source": [
    "######  Chooose sepal length and petal length which are column 0 and 2"
   ]
  },
  {
   "cell_type": "code",
   "execution_count": 12,
   "metadata": {},
   "outputs": [],
   "source": [
    "data = data_frame.iloc[0:100, [0,2]].values"
   ]
  },
  {
   "cell_type": "markdown",
   "metadata": {},
   "source": [
    "Graph"
   ]
  },
  {
   "cell_type": "code",
   "execution_count": 14,
   "metadata": {},
   "outputs": [
    {
     "data": {
      "image/png": "[encoded data removed]",
      "text/plain": [
       "<Figure size 432x288 with 1 Axes>"
      ]
     },
     "metadata": {
      "needs_background": "light"
     },
     "output_type": "display_data"
    }
   ],
   "source": [
    "plt.scatter(data[:50, 0], data[:50, 1], color='blue',marker='o',label='setosa')\n",
    "plt.scatter(data[50:100, 0], data[50:100, 1], color='green',marker='x',label='versicolor')\n",
    "plt.xlabel('Sepal length (cm)')\n",
    "plt.ylabel('Petal length (cm)')\n",
    "plt.legend(loc='upper left')\n",
    "plt.show()"
   ]
  },
  {
   "cell_type": "markdown",
   "metadata": {},
   "source": [
    "##### Perceptron Algorithm"
   ]
  },
  {
   "cell_type": "code",
   "execution_count": 21,
   "metadata": {},
   "outputs": [],
   "source": [
    "class Perceptron(object):\n",
    "    \"\"\" Perceptron classifier.\n",
    "    \n",
    "    Para\n",
    "    ************\n",
    "    eta : float\n",
    "        Learning rate eta (Generally between 0.0 and 1.0)\n",
    "    n : int\n",
    "        Passes over the training dataset n times.\n",
    "    rand_seed : int\n",
    "        Random number generation seed for starting initialization of weight.    \n",
    "        \n",
    "    Attribute\n",
    "    ***********\n",
    "    weights_ : 1d Array\n",
    "        Weights after fitting.\n",
    "    error_ : List\n",
    "        Number of updates in each epoch.\n",
    "    \"\"\"\n",
    "    \n",
    "    def __init__(self, eta=0.01,n=50,rand_seed = 1):\n",
    "        self.eta = eta\n",
    "        self.n = n\n",
    "        self.rand_seed = rand_seed\n",
    "    \n",
    "    def fit(self, data, classifier):\n",
    "        \"\"\" Fit training data.\n",
    "        \n",
    "        Para\n",
    "        ************\n",
    "        data : 2D-array, shape = [n_observations, n_details]\n",
    "            Training vectors, where n_observations is the number of\n",
    "            observations and n_details is the number of details about observations.\n",
    "        classifier : array, shape = [n_details]\n",
    "            Target values.\n",
    "\n",
    "        Returns\n",
    "        ************\n",
    "        self : object\n",
    "        \n",
    "        \"\"\"\n",
    "        random_number = np.random.RandomState(self.rand_seed)\n",
    "        self.weights_ = random_number.normal(loc=0.0, scale=0.1, size=1+ data.shape[1])\n",
    "        # Extra 1 size for bias unit\n",
    "        self.error_ = []\n",
    "        \n",
    "        for _ in range(self.n):\n",
    "            false = 0\n",
    "            for obse, result in zip(data, classifier):\n",
    "                delta = self.eta * (result - self.predict(obse))\n",
    "                self.weights_[1:] += delta*obse\n",
    "                self.weights_[0] += delta\n",
    "                false+=int(delta!=0.0)\n",
    "            self.error_.append(false)\n",
    "        return self\n",
    "    \n",
    "    def dot_pro(self, observation):\n",
    "        \"\"\" Retuns net input \"\"\"\n",
    "        return np.dot(observation, self.weights_[1:]) + self.weights_[0]\n",
    "    \n",
    "    def predict(self, observation):\n",
    "        \"\"\" Returns class label after calculation\"\"\"\n",
    "        return np.where(self.dot_pro(observation)>=0.0,1 ,-1)"
   ]
  },
  {
   "cell_type": "code",
   "execution_count": 22,
   "metadata": {},
   "outputs": [
    {
     "data": {
      "text/plain": [
       "<function matplotlib.pyplot.show(*args, **kw)>"
      ]
     },
     "execution_count": 22,
     "metadata": {},
     "output_type": "execute_result"
    },
    {
     "data": {
      "image/png": "[encoded data removed]",
      "text/plain": [
       "<Figure size 432x288 with 1 Axes>"
      ]
     },
     "metadata": {
      "needs_background": "light"
     },
     "output_type": "display_data"
    }
   ],
   "source": [
    "model = Perceptron(eta=0.1,n=10)\n",
    "model.fit(data, classifier)\n",
    "plt.plot(range(1, len(model.error_)+1), model.error_,marker='x')\n",
    "plt.xlabel('Epochs')\n",
    "plt.ylabel('Number of changes')\n",
    "plt.show"
   ]
  },
  {
   "cell_type": "markdown",
   "metadata": {},
   "source": [
    "#####  Let's visualize the decision boundaries for two-dimensional datasets"
   ]
  },
  {
   "cell_type": "code",
   "execution_count": 31,
   "metadata": {},
   "outputs": [],
   "source": [
    "def plot_decision_regions(data, classifier, model, resolution=0.02):\n",
    "    mark = ('s', 'x', 'o', '^', 'v')\n",
    "    colors = ('red', 'blue', 'green', 'yellow', 'cyan')\n",
    "    color_map = ListedColormap(colors[:len(np.unique(classifier))])\n",
    "    \n",
    "    detail1_min, detail1_max = data[:, 0].min() - 1, data[:, 0].max() + 1\n",
    "    detail2_min, detail2_max = data[:, 1].min() - 1, data[:, 1].max() + 1\n",
    "    detailx1, detailx2 = np.meshgrid(np.arange(detail1_min, detail1_max, resolution), \n",
    "                                     np.arange(detail2_min, detail2_max, resolution))\n",
    "    Z = model.predict(np.array([detailx1.ravel(),detailx2.ravel()]).T)\n",
    "    Z = Z.reshape(detailx1.shape)\n",
    "    plt.contourf(detailx1, detailx2, Z, alpha=0.3, color_map = color_map)\n",
    "    plt.xlim(detailx1.min(), detailx1.max())\n",
    "    plt.ylim(detailx2.min(), detailx2.max())\n",
    "    \n",
    "    # plot class example\n",
    "    for idx, cl in enumerate(np.unique(classifier)):\n",
    "        plt.scatter(x=data[classifier==cl, 0], y=data[classifier==cl, 1], alpha=0.7, c=colors[idx], marker=mark[idx],label=cl, edgecolor='black')"
   ]
  },
  {
   "cell_type": "code",
   "execution_count": 33,
   "metadata": {},
   "outputs": [
    {
     "data": {
      "image/png": "[encoded data removed]",
      "text/plain": [
       "<Figure size 432x288 with 1 Axes>"
      ]
     },
     "metadata": {
      "needs_background": "light"
     },
     "output_type": "display_data"
    }
   ],
   "source": [
    "plot_decision_regions(data, classifier, model)\n",
    "plt.xlabel('sepal length (cm)')\n",
    "plt.ylabel('petal length (cm)')\n",
    "plt.legend(loc='upper left')\n",
    "plt.show()"
   ]
  }
 ],
 "metadata": {
  "kernelspec": {
   "display_name": "Python 3",
   "language": "python",
   "name": "python3"
  },
  "language_info": {
   "codemirror_mode": {
    "name": "ipython",
    "version": 3
   },
   "file_extension": ".py",
   "mimetype": "text/x-python",
   "name": "python",
   "nbconvert_exporter": "python",
   "pygments_lexer": "ipython3",
   "version": "3.7.3"
  }
 },
 "nbformat": 4,
 "nbformat_minor": 2
}
